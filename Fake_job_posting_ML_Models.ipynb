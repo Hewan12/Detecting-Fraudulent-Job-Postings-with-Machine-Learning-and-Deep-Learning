{
 "cells": [
  {
   "cell_type": "code",
   "execution_count": 162,
   "id": "ff941286",
   "metadata": {},
   "outputs": [
    {
     "name": "stderr",
     "output_type": "stream",
     "text": [
      "[nltk_data] Downloading package omw-1.4 to\n",
      "[nltk_data]     C:\\Users\\hewi7\\AppData\\Roaming\\nltk_data...\n",
      "[nltk_data]   Package omw-1.4 is already up-to-date!\n",
      "[nltk_data] Downloading package stopwords to\n",
      "[nltk_data]     C:\\Users\\hewi7\\AppData\\Roaming\\nltk_data...\n",
      "[nltk_data]   Package stopwords is already up-to-date!\n",
      "[nltk_data] Downloading package punkt to\n",
      "[nltk_data]     C:\\Users\\hewi7\\AppData\\Roaming\\nltk_data...\n",
      "[nltk_data]   Package punkt is already up-to-date!\n",
      "[nltk_data] Downloading package wordnet to\n",
      "[nltk_data]     C:\\Users\\hewi7\\AppData\\Roaming\\nltk_data...\n",
      "[nltk_data]   Package wordnet is already up-to-date!\n"
     ]
    }
   ],
   "source": [
    "# Data manipulation and analysis\n",
    "import pandas as pd  # For data manipulation and analysis\n",
    "import numpy as np  # For numerical computations\n",
    "\n",
    "# Data visualization\n",
    "import matplotlib.pyplot as plt  # For creating visualizations\n",
    "import seaborn as sns  # For advanced data visualizations\n",
    "\n",
    "# Machine learning and model building\n",
    "from sklearn.model_selection import train_test_split  # For splitting data into training and testing sets\n",
    "from sklearn.feature_extraction.text import TfidfVectorizer  # For converting text data into numerical features\n",
    "from sklearn.preprocessing import LabelEncoder, StandardScaler  # For encoding categorical variables and scaling numerical data\n",
    "from sklearn.ensemble import RandomForestClassifier  # For building a classification model\n",
    "from sklearn.svm import SVC  # For Support Vector Machine classifier\n",
    "\n",
    "# Model evaluation\n",
    "from sklearn.metrics import classification_report, confusion_matrix, roc_auc_score  # For evaluating the model's performance\n",
    "\n",
    "# Natural Language Processing (NLP)\n",
    "import nltk  # For natural language processing tasks\n",
    "from nltk.corpus import stopwords  # For removing common stopwords in text preprocessing\n",
    "from nltk.tokenize import word_tokenize  # For tokenizing text into individual words\n",
    "from nltk.stem import WordNetLemmatizer  # For reducing words to their base form\n",
    "nltk.download('omw-1.4')\n",
    "nltk.download('stopwords')  # Download stopwords for text preprocessing\n",
    "nltk.download('punkt')  # Download tokenizer for text preprocessing\n",
    "nltk.download('wordnet')  # Download WordNet lemmatizer for text preprocessing\n",
    "\n",
    "# Other utilities\n",
    "import re  # For regular expressions used in text cleaning\n",
    "import warnings  # For suppressing warnings\n",
    "warnings.filterwarnings('ignore')  # Ignore warning messages\n"
   ]
  },
  {
   "cell_type": "code",
   "execution_count": 163,
   "id": "a668d368",
   "metadata": {},
   "outputs": [],
   "source": [
    "# 1. Load the Dataset\n",
    "data_path = \"../src/dataset/fake_job_postings.csv\"\n",
    "df = pd.read_csv(data_path)"
   ]
  },
  {
   "cell_type": "code",
   "execution_count": 105,
   "id": "46613e8f",
   "metadata": {},
   "outputs": [
    {
     "name": "stdout",
     "output_type": "stream",
     "text": [
      "Dataset Info:\n",
      "\n",
      "<class 'pandas.core.frame.DataFrame'>\n",
      "RangeIndex: 17880 entries, 0 to 17879\n",
      "Data columns (total 18 columns):\n",
      " #   Column               Non-Null Count  Dtype \n",
      "---  ------               --------------  ----- \n",
      " 0   job_id               17880 non-null  int64 \n",
      " 1   title                17880 non-null  object\n",
      " 2   location             17534 non-null  object\n",
      " 3   department           6333 non-null   object\n",
      " 4   salary_range         2868 non-null   object\n",
      " 5   company_profile      14572 non-null  object\n",
      " 6   description          17879 non-null  object\n",
      " 7   requirements         15184 non-null  object\n",
      " 8   benefits             10668 non-null  object\n",
      " 9   telecommuting        17880 non-null  int64 \n",
      " 10  has_company_logo     17880 non-null  int64 \n",
      " 11  has_questions        17880 non-null  int64 \n",
      " 12  employment_type      14409 non-null  object\n",
      " 13  required_experience  10830 non-null  object\n",
      " 14  required_education   9775 non-null   object\n",
      " 15  industry             12977 non-null  object\n",
      " 16  function             11425 non-null  object\n",
      " 17  fraudulent           17880 non-null  int64 \n",
      "dtypes: int64(5), object(13)\n",
      "memory usage: 2.5+ MB\n",
      "\n",
      "Summary statistics:\n",
      "\n",
      "             job_id  telecommuting  has_company_logo  has_questions  \\\n",
      "count  17880.000000   17880.000000      17880.000000   17880.000000   \n",
      "mean    8940.500000       0.042897          0.795302       0.491723   \n",
      "std     5161.655742       0.202631          0.403492       0.499945   \n",
      "min        1.000000       0.000000          0.000000       0.000000   \n",
      "25%     4470.750000       0.000000          1.000000       0.000000   \n",
      "50%     8940.500000       0.000000          1.000000       0.000000   \n",
      "75%    13410.250000       0.000000          1.000000       1.000000   \n",
      "max    17880.000000       1.000000          1.000000       1.000000   \n",
      "\n",
      "         fraudulent  \n",
      "count  17880.000000  \n",
      "mean       0.048434  \n",
      "std        0.214688  \n",
      "min        0.000000  \n",
      "25%        0.000000  \n",
      "50%        0.000000  \n",
      "75%        0.000000  \n",
      "max        1.000000  \n",
      "\n",
      "Class Distribution:\n",
      "\n",
      "fraudulent\n",
      "0    17014\n",
      "1      866\n",
      "Name: count, dtype: int64\n"
     ]
    }
   ],
   "source": [
    "#2. Data Understanding\n",
    "print(\"Dataset Info:\\n\")\n",
    "df.info()  #Display information about dataset columns and data types\n",
    "\n",
    "print(\"\\nSummary statistics:\\n\")\n",
    "print(df.describe())  # Show summary statistics for numerical columns\n",
    "\n",
    "print(\"\\nClass Distribution:\\n\")\n",
    "print(df['fraudulent'].value_counts())  # Display distribution of target lables"
   ]
  },
  {
   "cell_type": "code",
   "execution_count": 106,
   "id": "159b0a14",
   "metadata": {},
   "outputs": [],
   "source": [
    "# 3. Data Cleaning and Preprocessing\n",
    "def clean_text(text):\n",
    "    text = re.sub(r'<[^>]+>', '', text)  # Remove HTML tags\n",
    "    text = re.sub(r'<[^a-zA-Z]', '', text)  # Remove non-alphabet characters\n",
    "    text = text.lower()  # Convert text to lowercase\n",
    "    return text  # Return cleaned text\n"
   ]
  },
  {
   "cell_type": "code",
   "execution_count": 107,
   "id": "d5b10d93",
   "metadata": {},
   "outputs": [],
   "source": [
    "df['cleaned_description'] = df['description'].fillna('').apply(clean_text)  # Apply cleaning function to text data"
   ]
  },
  {
   "cell_type": "code",
   "execution_count": 108,
   "id": "bae381d3",
   "metadata": {},
   "outputs": [],
   "source": [
    "# Handle missing values and categorical features\n",
    "df.fillna({'location': 'Unknown', 'employment_type': 'Unknown', 'required_experience': 'Unkown'}, inplace = True)  # Fill missing values\n",
    "categorical_cols = ['location', 'employment_type', 'required_experience']  # List of categorical columns\n",
    "encoder = LabelEncoder()  # Initialize lable encoder\n",
    "for col in categorical_cols:\n",
    "    df[col] = encoder.fit_transform(df[col])  # Encode categorical variables"
   ]
  },
  {
   "cell_type": "code",
   "execution_count": 109,
   "id": "81e1cae9",
   "metadata": {},
   "outputs": [],
   "source": [
    "# Scale numerical features\n",
    "scaler = StandardScaler()  # Initialize scaler for numerical features\n",
    "df[['location', 'employment_type', 'required_experience']] = scaler.fit_transform(df[['location', 'employment_type', 'required_experience']])  # Scale features"
   ]
  },
  {
   "cell_type": "code",
   "execution_count": 110,
   "id": "b32d5b8a",
   "metadata": {},
   "outputs": [],
   "source": [
    "# 4. Feature Engineering\n",
    "vectorizer = TfidfVectorizer(max_features=1000) #  Initialize TF-IDF vectorizer with a maximum of 5000 features\n",
    "text_features = vectorizer.fit_transform(df['cleaned_description']).toarray()  # Transform text data into numerical features"
   ]
  },
  {
   "cell_type": "code",
   "execution_count": 111,
   "id": "7d1e5ab2",
   "metadata": {},
   "outputs": [],
   "source": [
    "# Combine features\n",
    "X = np.hstack((text_features, df[['location', 'employment_type', 'required_experience']].values))  # Combine text and meta features\n",
    "y = df['fraudulent']  # Target variable"
   ]
  },
  {
   "cell_type": "code",
   "execution_count": 161,
   "id": "6c50ddd1",
   "metadata": {},
   "outputs": [],
   "source": [
    "# 5. Train-Test Split\n",
    "X_train, X_test, y_train, y_test = train_test_split(X, y, test_size = 0.2, random_state = 42, stratify = y)  # Split data into training and testing sets"
   ]
  },
  {
   "cell_type": "code",
   "execution_count": 113,
   "id": "c0c4844b",
   "metadata": {},
   "outputs": [
    {
     "data": {
      "text/plain": [
       "RandomForestClassifier(n_jobs=-1, random_state=42)"
      ]
     },
     "execution_count": 113,
     "metadata": {},
     "output_type": "execute_result"
    }
   ],
   "source": [
    "# 6. Random Forest Basline Model-1\n",
    "clf = RandomForestClassifier(n_estimators=100, max_depth=10, max_features='sqrt', random_state=42)\n",
    "clf = RandomForestClassifier(n_jobs = -1, random_state = 42)  # Initialize Random Forest Classifier\n",
    "clf.fit(X_train, y_train)  # Train the model on the training data"
   ]
  },
  {
   "cell_type": "code",
   "execution_count": 114,
   "id": "3bd38f48",
   "metadata": {},
   "outputs": [],
   "source": [
    "#df_sample = df.sample(frac=0.5, random_state=42)  # Use 50% of the data"
   ]
  },
  {
   "cell_type": "code",
   "execution_count": 115,
   "id": "0cfdece9",
   "metadata": {},
   "outputs": [],
   "source": [
    "# 7. Evaluatation\n",
    "y_pred = clf.predict(X_test)  # Predict labels for the test set\n",
    "y_proba = clf.predict_proba(X_test)[:, 1]  # Get probabilities for the positive class"
   ]
  },
  {
   "cell_type": "code",
   "execution_count": 131,
   "id": "0629d0ed",
   "metadata": {},
   "outputs": [
    {
     "name": "stdout",
     "output_type": "stream",
     "text": [
      "Random Forest Classfication Report:\n",
      "\n",
      "              precision    recall  f1-score   support\n",
      "\n",
      "           0       0.98      1.00      0.99      3403\n",
      "           1       0.99      0.53      0.69       173\n",
      "\n",
      "    accuracy                           0.98      3576\n",
      "   macro avg       0.98      0.77      0.84      3576\n",
      "weighted avg       0.98      0.98      0.97      3576\n",
      "\n"
     ]
    }
   ],
   "source": [
    "print('Random Forest Classfication Report:\\n')\n",
    "print(classification_report(y_test, y_pred))  # Print classification report"
   ]
  },
  {
   "cell_type": "code",
   "execution_count": 129,
   "id": "fa67a058",
   "metadata": {},
   "outputs": [
    {
     "name": "stdout",
     "output_type": "stream",
     "text": [
      "Random Forest Confusion Matrix:\n",
      "\n",
      "[[3402    1]\n",
      " [  81   92]]\n"
     ]
    }
   ],
   "source": [
    "print('Random Forest Confusion Matrix:\\n')\n",
    "print(confusion_matrix(y_test, y_pred))  # Print confusion matrix"
   ]
  },
  {
   "cell_type": "code",
   "execution_count": 130,
   "id": "2d840305",
   "metadata": {},
   "outputs": [
    {
     "name": "stdout",
     "output_type": "stream",
     "text": [
      "ROC-AUC Score: 0.9522335783285405\n"
     ]
    }
   ],
   "source": [
    "print(\"ROC-AUC Score:\", roc_auc_score(y_test, y_proba))  # Print ROC-AUC score"
   ]
  },
  {
   "cell_type": "code",
   "execution_count": 132,
   "id": "fc8ef36e",
   "metadata": {},
   "outputs": [
    {
     "data": {
      "image/png": "[encoded data removed]",
      "text/plain": [
       "<Figure size 432x288 with 2 Axes>"
      ]
     },
     "metadata": {
      "needs_background": "light"
     },
     "output_type": "display_data"
    }
   ],
   "source": [
    "# 8. Visualizations\n",
    "sns.heatmap(confusion_matrix(y_test, y_pred), annot = True, fmt = 'd', cmap = 'Blues')  # Plot confusion matrix\n",
    "plt.title('Random Forest Confusion Matrix')\n",
    "plt.xlabel('Predicted')\n",
    "plt.ylabel('Actual')\n",
    "plt.show()"
   ]
  },
  {
   "cell_type": "code",
   "execution_count": 122,
   "id": "f9ee10ad",
   "metadata": {},
   "outputs": [
    {
     "data": {
      "text/plain": [
       "SVC(kernel='linear', probability=True, random_state=42)"
      ]
     },
     "execution_count": 122,
     "metadata": {},
     "output_type": "execute_result"
    }
   ],
   "source": [
    "# 9. SVM Baseline Mode-2\n",
    "# Model initialization\n",
    "svm_clf = SVC(kernel = 'linear', random_state = 42, probability = True)  # Using linear kernel for text data\n",
    "svm_clf.fit(X_train, y_train)  # Train the SVM model on the training data"
   ]
  },
  {
   "cell_type": "code",
   "execution_count": 123,
   "id": "dc87a0a4",
   "metadata": {},
   "outputs": [],
   "source": [
    "# 10. Evaluation\n",
    "y_pred_svm = svm_clf.predict(X_test)  # Predict labels for the test set\n",
    "y_proba_svm = svm_clf.predict_proba(X_test)[:, 1]  # Get probabilites for the positive class"
   ]
  },
  {
   "cell_type": "code",
   "execution_count": 124,
   "id": "555031b5",
   "metadata": {},
   "outputs": [
    {
     "name": "stdout",
     "output_type": "stream",
     "text": [
      "SVM Classification Report:\n",
      "\n",
      "              precision    recall  f1-score   support\n",
      "\n",
      "           0       0.97      1.00      0.98      3403\n",
      "           1       1.00      0.33      0.50       173\n",
      "\n",
      "    accuracy                           0.97      3576\n",
      "   macro avg       0.98      0.66      0.74      3576\n",
      "weighted avg       0.97      0.97      0.96      3576\n",
      "\n"
     ]
    }
   ],
   "source": [
    "print(\"SVM Classification Report:\\n\")\n",
    "print(classification_report(y_test, y_pred_svm))  # Print classification report"
   ]
  },
  {
   "cell_type": "code",
   "execution_count": 125,
   "id": "83441158",
   "metadata": {},
   "outputs": [
    {
     "name": "stdout",
     "output_type": "stream",
     "text": [
      "SVM Confusion Matrix:\n",
      "\n",
      "[[3403    0]\n",
      " [ 116   57]]\n"
     ]
    }
   ],
   "source": [
    "print(\"SVM Confusion Matrix:\\n\")\n",
    "print(confusion_matrix(y_test, y_pred_svm))  # Print confusion matrix"
   ]
  },
  {
   "cell_type": "code",
   "execution_count": 160,
   "id": "d9e97251",
   "metadata": {},
   "outputs": [
    {
     "name": "stdout",
     "output_type": "stream",
     "text": [
      "SVM ROC-AUC Score: 0.9056026729220562\n"
     ]
    }
   ],
   "source": [
    "print(\"SVM ROC-AUC Score:\", roc_auc_score(y_test, y_proba_svm))  # Print ROC-AUC score"
   ]
  },
  {
   "cell_type": "code",
   "execution_count": 128,
   "id": "508d4908",
   "metadata": {},
   "outputs": [
    {
     "data": {
      "image/png": "[encoded data removed]",
      "text/plain": [
       "<Figure size 432x288 with 2 Axes>"
      ]
     },
     "metadata": {
      "needs_background": "light"
     },
     "output_type": "display_data"
    }
   ],
   "source": [
    "# 11. Visualization\n",
    "sns.heatmap(confusion_matrix(y_test, y_pred_svm), annot = True, fmt = 'd', cmap = 'Blues')  # Plot confusion matrix\n",
    "plt.title('SVM Confusion Matrix')\n",
    "plt.xlabel('Predicted')\n",
    "plt.ylabel('Actual')\n",
    "plt.show()"
   ]
  },
  {
   "cell_type": "code",
   "execution_count": null,
   "id": "9388cdea",
   "metadata": {},
   "outputs": [],
   "source": []
  }
 ],
 "metadata": {
  "kernelspec": {
   "display_name": "Python 3 (ipykernel)",
   "language": "python",
   "name": "python3"
  },
  "language_info": {
   "codemirror_mode": {
    "name": "ipython",
    "version": 3
   },
   "file_extension": ".py",
   "mimetype": "text/x-python",
   "name": "python",
   "nbconvert_exporter": "python",
   "pygments_lexer": "ipython3",
   "version": "3.9.12"
  }
 },
 "nbformat": 4,
 "nbformat_minor": 5
}
