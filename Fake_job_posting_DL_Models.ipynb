{
 "cells": [
  {
   "cell_type": "code",
   "execution_count": 55,
   "id": "63379b0d",
   "metadata": {},
   "outputs": [],
   "source": [
    "import pandas as pd  # For data manipulation and analysis\n",
    "import numpy as np  # For numerical computations\n",
    "import matplotlib.pyplot as plt  # For creating visualizations\n",
    "import seaborn as sns  # For advanced data visualizations \n",
    "import re  # For regular expressions used in text cleaning\n",
    "import tensorflow as tf\n",
    "from tensorflow.keras.models import Model, Sequential\n",
    "from tensorflow.keras.layers import Embedding, LSTM, Input, Dense, Dropout, concatenate, Bidirectional\n",
    "from tensorflow.keras.utils import to_categorical\n",
    "from sklearn.preprocessing import OneHotEncoder\n",
    "from tensorflow.keras.preprocessing.text import Tokenizer\n",
    "from tensorflow.keras.preprocessing.sequence import pad_sequences\n",
    "from sklearn.preprocessing import LabelEncoder  # Import LabelEncoder\n",
    "from sklearn.preprocessing import StandardScaler  # Import StandardScaler\n",
    "from sklearn.model_selection import train_test_split  # Import train_test_split\n",
    "from sklearn.feature_extraction.text import TfidfVectorizer  # Import TfidfVectorizer"
   ]
  },
  {
   "cell_type": "code",
   "execution_count": 45,
   "id": "bb6102f2",
   "metadata": {},
   "outputs": [],
   "source": [
    "# 1. Load the Dataset\n",
    "data_path = r\"C:\\Users\\hewi7\\Dropbox\\PC\\Downloads\\Data Science Project\\fake_job_postings.csv\\fake_job_postings.csv\"\n",
    "df = pd.read_csv(data_path)"
   ]
  },
  {
   "cell_type": "code",
   "execution_count": 46,
   "id": "decd241f",
   "metadata": {},
   "outputs": [
    {
     "name": "stdout",
     "output_type": "stream",
     "text": [
      "Dataset Info:\n",
      "\n",
      "<class 'pandas.core.frame.DataFrame'>\n",
      "RangeIndex: 17880 entries, 0 to 17879\n",
      "Data columns (total 18 columns):\n",
      " #   Column               Non-Null Count  Dtype \n",
      "---  ------               --------------  ----- \n",
      " 0   job_id               17880 non-null  int64 \n",
      " 1   title                17880 non-null  object\n",
      " 2   location             17534 non-null  object\n",
      " 3   department           6333 non-null   object\n",
      " 4   salary_range         2868 non-null   object\n",
      " 5   company_profile      14572 non-null  object\n",
      " 6   description          17879 non-null  object\n",
      " 7   requirements         15184 non-null  object\n",
      " 8   benefits             10668 non-null  object\n",
      " 9   telecommuting        17880 non-null  int64 \n",
      " 10  has_company_logo     17880 non-null  int64 \n",
      " 11  has_questions        17880 non-null  int64 \n",
      " 12  employment_type      14409 non-null  object\n",
      " 13  required_experience  10830 non-null  object\n",
      " 14  required_education   9775 non-null   object\n",
      " 15  industry             12977 non-null  object\n",
      " 16  function             11425 non-null  object\n",
      " 17  fraudulent           17880 non-null  int64 \n",
      "dtypes: int64(5), object(13)\n",
      "memory usage: 2.5+ MB\n",
      "\n",
      "Summary statistics:\n",
      "\n",
      "             job_id  telecommuting  has_company_logo  has_questions  \\\n",
      "count  17880.000000   17880.000000      17880.000000   17880.000000   \n",
      "mean    8940.500000       0.042897          0.795302       0.491723   \n",
      "std     5161.655742       0.202631          0.403492       0.499945   \n",
      "min        1.000000       0.000000          0.000000       0.000000   \n",
      "25%     4470.750000       0.000000          1.000000       0.000000   \n",
      "50%     8940.500000       0.000000          1.000000       0.000000   \n",
      "75%    13410.250000       0.000000          1.000000       1.000000   \n",
      "max    17880.000000       1.000000          1.000000       1.000000   \n",
      "\n",
      "         fraudulent  \n",
      "count  17880.000000  \n",
      "mean       0.048434  \n",
      "std        0.214688  \n",
      "min        0.000000  \n",
      "25%        0.000000  \n",
      "50%        0.000000  \n",
      "75%        0.000000  \n",
      "max        1.000000  \n",
      "\n",
      "Class Distribution:\n",
      "\n",
      "fraudulent\n",
      "0    17014\n",
      "1      866\n",
      "Name: count, dtype: int64\n"
     ]
    }
   ],
   "source": [
    "#2. Data Understanding\n",
    "print(\"Dataset Info:\\n\")\n",
    "df.info()  #Display information about dataset columns and data types\n",
    "\n",
    "print(\"\\nSummary statistics:\\n\")\n",
    "print(df.describe())  # Show summary statistics for numerical columns\n",
    "\n",
    "print(\"\\nClass Distribution:\\n\")\n",
    "print(df['fraudulent'].value_counts())  # Display distribution of target lables"
   ]
  },
  {
   "cell_type": "code",
   "execution_count": 47,
   "id": "4fe02ef6",
   "metadata": {},
   "outputs": [],
   "source": [
    "# 3. Data Cleaning and Preprocessing\n",
    "def clean_text(text):\n",
    "    text = re.sub(r'<[^>]+>', '', text)  # Remove HTML tags\n",
    "    text = re.sub(r'<[^a-zA-Z]', '', text)  # Remove non-alphabet characters\n",
    "    text = text.lower()  # Convert text to lowercase\n",
    "    return text  # Return cleaned text"
   ]
  },
  {
   "cell_type": "code",
   "execution_count": 48,
   "id": "db5a9f71",
   "metadata": {},
   "outputs": [],
   "source": [
    "df['cleaned_description'] = df['description'].fillna('').apply(clean_text)  # Apply cleaning function to text data"
   ]
  },
  {
   "cell_type": "code",
   "execution_count": 49,
   "id": "49982d29",
   "metadata": {},
   "outputs": [],
   "source": [
    "# Handle missing values and categorical features\n",
    "df.fillna({'location': 'Unknown', 'employment_type': 'Unknown', 'required_experience': 'Unkown'}, inplace = True)  # Fill missing values\n",
    "categorical_cols = ['location', 'employment_type', 'required_experience']  # List of categorical columns\n",
    "encoder = LabelEncoder()  # Initialize lable encoder\n",
    "for col in categorical_cols:\n",
    "    df[col] = encoder.fit_transform(df[col])  # Encode categorical variables"
   ]
  },
  {
   "cell_type": "code",
   "execution_count": 50,
   "id": "1e4c9008",
   "metadata": {},
   "outputs": [],
   "source": [
    "# Scale numerical features\n",
    "scaler = StandardScaler()  # Initialize scaler for numerical features\n",
    "df[['location', 'employment_type', 'required_experience']] = scaler.fit_transform(df[['location', 'employment_type', 'required_experience']])  # Scale features"
   ]
  },
  {
   "cell_type": "code",
   "execution_count": 51,
   "id": "856d260d",
   "metadata": {},
   "outputs": [],
   "source": [
    "# 4. Feature Engineering\n",
    "vectorizer = TfidfVectorizer(max_features=1000) #  Initialize TF-IDF vectorizer with a maximum of 5000 features\n",
    "text_features = vectorizer.fit_transform(df['cleaned_description']).toarray()  # Transform text data into numerical features"
   ]
  },
  {
   "cell_type": "code",
   "execution_count": 52,
   "id": "affb8c7a",
   "metadata": {},
   "outputs": [],
   "source": [
    "# Combine features\n",
    "X = np.hstack((text_features, df[['location', 'employment_type', 'required_experience']].values))  # Combine text and meta features\n",
    "y = df['fraudulent']  # Target variable"
   ]
  },
  {
   "cell_type": "code",
   "execution_count": 56,
   "id": "d605ef60",
   "metadata": {},
   "outputs": [],
   "source": [
    "# 5. Train-Test Split\n",
    "X_train, X_test, y_train, y_test = train_test_split(X, y, test_size = 0.2, random_state = 42, stratify = y)  # Split data into training and testing sets"
   ]
  },
  {
   "cell_type": "code",
   "execution_count": 57,
   "id": "db94bca0",
   "metadata": {},
   "outputs": [],
   "source": [
    "# Deep Neural Network (DNN) Model \n",
    "# 6. One-Hot Encode the Target Variables\n",
    "y = df['fraudulent']  # Assign the target variable to y\n",
    "\n",
    "from tensorflow.keras.utils import to_categorical\n",
    "y_one_hot = to_categorical(y, num_classes=2)  # Convert target variable to one-hot encoding"
   ]
  },
  {
   "cell_type": "code",
   "execution_count": 58,
   "id": "5d9dc9e6",
   "metadata": {},
   "outputs": [],
   "source": [
    "# 7. Define the Text Input Model\n",
    "text_input = Input(shape = (text_features.shape[1],), name ='text_input')  # Test input \n",
    "text_dense = Dense(128, activation = 'relu')(text_input)  # Dense layer for tabular features\n",
    "text_dropout = Dropout(0.5)(text_dense)  # Dropout for regularization"
   ]
  },
  {
   "cell_type": "code",
   "execution_count": 59,
   "id": "7d4d6073",
   "metadata": {},
   "outputs": [],
   "source": [
    "# 8. Define the Tabular Model\n",
    "tabular_input = Input(shape=(df[['location', 'employment_type', 'required_experience']].shape[1],), name = 'tabular_input')\n",
    "tabular_dense = Dense(32, activation = 'relu')(tabular_input)  # Dense layer for tabular features\n",
    "tabular_dropout = Dropout(0.5)(text_dense)  # Dropout for regularization"
   ]
  },
  {
   "cell_type": "code",
   "execution_count": 60,
   "id": "757bed2f",
   "metadata": {},
   "outputs": [],
   "source": [
    "# 9. Combine Text and Tabular Models\n",
    "combined = concatenate([text_dropout, tabular_dropout])  # Concatenate outputs of both inputs\n",
    "combined_dense = Dense(64, activation = 'relu')(combined)  # Additional dense layer\n",
    "output = Dense(2, activation = 'softmax', name = 'output')(combined_dense)  # Output layer with softmax for classification"
   ]
  },
  {
   "cell_type": "code",
   "execution_count": 61,
   "id": "bc904b0f",
   "metadata": {},
   "outputs": [],
   "source": [
    "# Compile the Model\n",
    "model = Model(inputs = [text_input, tabular_input], outputs = output)  # Define the model\n",
    "model.compile(optimizer='adam', loss='categorical_crossentropy', metrics=['accuracy'])  # Compile the model"
   ]
  },
  {
   "cell_type": "code",
   "execution_count": 62,
   "id": "a4b52509",
   "metadata": {},
   "outputs": [
    {
     "name": "stdout",
     "output_type": "stream",
     "text": [
      "Epoch 1/20\n",
      "447/447 [==============================] - 2s 4ms/step - loss: 0.1376 - accuracy: 0.9615 - val_loss: 0.2389 - val_accuracy: 0.9091\n",
      "Epoch 2/20\n",
      "447/447 [==============================] - 1s 3ms/step - loss: 0.0814 - accuracy: 0.9747 - val_loss: 0.1989 - val_accuracy: 0.9379\n",
      "Epoch 3/20\n",
      "447/447 [==============================] - 1s 3ms/step - loss: 0.0580 - accuracy: 0.9830 - val_loss: 0.2132 - val_accuracy: 0.9390\n",
      "Epoch 4/20\n",
      "447/447 [==============================] - 1s 3ms/step - loss: 0.0424 - accuracy: 0.9881 - val_loss: 0.2449 - val_accuracy: 0.9402\n",
      "Epoch 5/20\n",
      "447/447 [==============================] - 1s 3ms/step - loss: 0.0262 - accuracy: 0.9935 - val_loss: 0.2593 - val_accuracy: 0.9402\n",
      "Epoch 6/20\n",
      "447/447 [==============================] - 2s 3ms/step - loss: 0.0178 - accuracy: 0.9952 - val_loss: 0.3046 - val_accuracy: 0.9421\n",
      "Epoch 7/20\n",
      "447/447 [==============================] - 1s 3ms/step - loss: 0.0109 - accuracy: 0.9969 - val_loss: 0.3656 - val_accuracy: 0.9418\n",
      "Epoch 8/20\n",
      "447/447 [==============================] - 1s 3ms/step - loss: 0.0074 - accuracy: 0.9981 - val_loss: 0.4018 - val_accuracy: 0.9430\n",
      "Epoch 9/20\n",
      "447/447 [==============================] - 1s 3ms/step - loss: 0.0059 - accuracy: 0.9983 - val_loss: 0.4246 - val_accuracy: 0.9382\n",
      "Epoch 10/20\n",
      "447/447 [==============================] - 2s 3ms/step - loss: 0.0051 - accuracy: 0.9983 - val_loss: 0.4901 - val_accuracy: 0.9455\n",
      "Epoch 11/20\n",
      "447/447 [==============================] - 2s 4ms/step - loss: 0.0056 - accuracy: 0.9984 - val_loss: 0.4587 - val_accuracy: 0.9390\n",
      "Epoch 12/20\n",
      "447/447 [==============================] - 2s 3ms/step - loss: 0.0041 - accuracy: 0.9989 - val_loss: 0.5076 - val_accuracy: 0.9424\n",
      "Epoch 13/20\n",
      "447/447 [==============================] - 2s 4ms/step - loss: 0.0042 - accuracy: 0.9990 - val_loss: 0.4239 - val_accuracy: 0.9374\n",
      "Epoch 14/20\n",
      "447/447 [==============================] - 2s 3ms/step - loss: 0.0031 - accuracy: 0.9990 - val_loss: 0.5089 - val_accuracy: 0.9404\n",
      "Epoch 15/20\n",
      "447/447 [==============================] - 2s 4ms/step - loss: 0.0025 - accuracy: 0.9992 - val_loss: 0.5486 - val_accuracy: 0.9427\n",
      "Epoch 16/20\n",
      "447/447 [==============================] - 2s 3ms/step - loss: 0.0038 - accuracy: 0.9985 - val_loss: 0.5263 - val_accuracy: 0.9432\n",
      "Epoch 17/20\n",
      "447/447 [==============================] - 2s 4ms/step - loss: 0.0025 - accuracy: 0.9992 - val_loss: 0.5581 - val_accuracy: 0.9449\n",
      "Epoch 18/20\n",
      "447/447 [==============================] - 2s 3ms/step - loss: 0.0028 - accuracy: 0.9994 - val_loss: 0.5379 - val_accuracy: 0.9416\n",
      "Epoch 19/20\n",
      "447/447 [==============================] - 2s 4ms/step - loss: 0.0026 - accuracy: 0.9991 - val_loss: 0.5869 - val_accuracy: 0.9469\n",
      "Epoch 20/20\n",
      "447/447 [==============================] - 2s 3ms/step - loss: 0.0020 - accuracy: 0.9992 - val_loss: 0.6240 - val_accuracy: 0.9477\n"
     ]
    }
   ],
   "source": [
    "# 10. Train the Model\n",
    "history = model.fit(\n",
    "    [text_features, df[['location', 'employment_type', 'required_experience']].values],  # Input\n",
    "    y_one_hot,  # Target\n",
    "    validation_split = 0.2,  # 20% validation data\n",
    "    epochs = 20,  # Btch size\n",
    "    verbose = 1  # Display training progress\n",
    ")"
   ]
  },
  {
   "cell_type": "code",
   "execution_count": 63,
   "id": "47765ac1",
   "metadata": {},
   "outputs": [
    {
     "name": "stdout",
     "output_type": "stream",
     "text": [
      "112/112 [==============================] - 0s 2ms/step - loss: 0.1128 - accuracy: 0.9913\n",
      "Test Loss: 0.11278873682022095\n",
      "Test Accuracy: 0.9913311004638672\n"
     ]
    }
   ],
   "source": [
    "# 11. Evaluate the Model\n",
    "loss, accuracy = model.evaluate(\n",
    "      [X_test[:, :text_features.shape[1]], X_test[:, text_features.shape[1]:]],  # Test inputs\n",
    "      to_categorical(y_test, num_classes = 2)  # Test target\n",
    ")\n",
    "print(f\"Test Loss: {loss}\")\n",
    "print(f\"Test Accuracy: {accuracy}\")"
   ]
  },
  {
   "cell_type": "code",
   "execution_count": 64,
   "id": "6ede7701",
   "metadata": {},
   "outputs": [
    {
     "data": {
      "image/png": "[encoded data removed]",
      "text/plain": [
       "<Figure size 864x432 with 1 Axes>"
      ]
     },
     "metadata": {
      "needs_background": "light"
     },
     "output_type": "display_data"
    }
   ],
   "source": [
    "# 12. Visualize Training History\n",
    "plt.figure(figsize=(12, 6))\n",
    "plt.plot(history.history['accuracy'], label='Train Accuracy')\n",
    "plt.plot(history.history['val_accuracy'], label='Validation Accuracy')\n",
    "plt.title('Model Accuracy')\n",
    "plt.xlabel('Epochs')\n",
    "plt.ylabel('Accuracy')\n",
    "plt.legend()\n",
    "plt.show()"
   ]
  },
  {
   "cell_type": "code",
   "execution_count": 65,
   "id": "cd7a7a65",
   "metadata": {},
   "outputs": [
    {
     "data": {
      "image/png": "[encoded data removed]",
      "text/plain": [
       "<Figure size 864x432 with 1 Axes>"
      ]
     },
     "metadata": {
      "needs_background": "light"
     },
     "output_type": "display_data"
    }
   ],
   "source": [
    "plt.figure(figsize=(12, 6))\n",
    "plt.plot(history.history['loss'], label='Train Loss')\n",
    "plt.plot(history.history['val_loss'], label='Validation Loss')\n",
    "plt.title('Model Loss')\n",
    "plt.xlabel('Epochs')\n",
    "plt.ylabel('Loss')\n",
    "plt.legend()\n",
    "plt.show()"
   ]
  },
  {
   "cell_type": "code",
   "execution_count": 66,
   "id": "e51a8ee9",
   "metadata": {},
   "outputs": [],
   "source": [
    "## LSTM Model\n",
    "# 1. Test Tokenization and Padding\n",
    "max_vocab_size = 10000  # Maximum length of unique tokens\n",
    "max_sequence_length = 200  # Maximum length of a text sequence\n",
    "\n",
    "tokenizer = Tokenizer(num_words = max_vocab_size, oov_token = '<00v>')  # Initialize tokenizer\n",
    "tokenizer.fit_on_texts(df['cleaned_description'])  # Fit tokenizer on cleaned text data"
   ]
  },
  {
   "cell_type": "code",
   "execution_count": 67,
   "id": "0f25ae84",
   "metadata": {},
   "outputs": [],
   "source": [
    "# Conver text to sequences and pad them\n",
    "sequences = tokenizer.texts_to_sequences(df['cleaned_description'])\n",
    "padded_sequences = pad_sequences(sequences, maxlen = max_sequence_length, padding = 'post', truncating = 'post')"
   ]
  },
  {
   "cell_type": "code",
   "execution_count": 68,
   "id": "700b217b",
   "metadata": {},
   "outputs": [],
   "source": [
    "# 2. one-Hot Encode the Target variable\n",
    "y_one_hot = to_categorical(y, num_classes = 2)  # Covert target variable to one-hot encodeing"
   ]
  },
  {
   "cell_type": "code",
   "execution_count": 69,
   "id": "66da7036",
   "metadata": {},
   "outputs": [],
   "source": [
    "# 3. Train-Test Split\n",
    "X_train_seq, X_test_seq, y_train_seq, y_test_seq = train_test_split(\n",
    "    padded_sequences, y_one_hot, test_size = 0.2, random_state = 42, stratify = y\n",
    ")"
   ]
  },
  {
   "cell_type": "code",
   "execution_count": 70,
   "id": "3195feba",
   "metadata": {},
   "outputs": [],
   "source": [
    "# 4. Define the LSTM Model\n",
    "embedding_dim = 128  # Dimensionality of the embedding layer\n",
    "\n",
    "model = Sequential([\n",
    "    Embedding(input_dim = max_vocab_size, output_dim = embedding_dim, input_length = max_sequence_length),  # Embedding layer\n",
    "    Bidirectional(LSTM(128, return_sequences = False)),  # Bi-directioanl LSTM\n",
    "    Dropout(0.5),  # Dropout for regularization\n",
    "    Dense(64, activation = 'relu'),  # Fully connected layer\n",
    "    Dropout(0.5),  # Dropout for regularization\n",
    "    Dense(2, activation = 'softmax')  # Output layer for classification\n",
    "])"
   ]
  },
  {
   "cell_type": "code",
   "execution_count": 71,
   "id": "0d28a10d",
   "metadata": {},
   "outputs": [],
   "source": [
    "# 5. Compile the Model\n",
    "model.compile(optimizer = 'adam', loss = 'categorical_crossentropy', metrics = ['accuracy'])  # Combile the model"
   ]
  },
  {
   "cell_type": "code",
   "execution_count": 72,
   "id": "63fa0bf2",
   "metadata": {},
   "outputs": [
    {
     "name": "stdout",
     "output_type": "stream",
     "text": [
      "Epoch 1/10\n",
      "358/358 [==============================] - 89s 236ms/step - loss: 0.1522 - accuracy: 0.9612 - val_loss: 0.1020 - val_accuracy: 0.9727\n",
      "Epoch 2/10\n",
      "358/358 [==============================] - 102s 285ms/step - loss: 0.0599 - accuracy: 0.9811 - val_loss: 0.1012 - val_accuracy: 0.9734\n",
      "Epoch 3/10\n",
      "358/358 [==============================] - 106s 297ms/step - loss: 0.0298 - accuracy: 0.9910 - val_loss: 0.1241 - val_accuracy: 0.9657\n",
      "Epoch 4/10\n",
      "358/358 [==============================] - 97s 272ms/step - loss: 0.0155 - accuracy: 0.9943 - val_loss: 0.1415 - val_accuracy: 0.9745\n",
      "Epoch 5/10\n",
      "358/358 [==============================] - 103s 287ms/step - loss: 0.0095 - accuracy: 0.9966 - val_loss: 0.1958 - val_accuracy: 0.9752\n",
      "Epoch 6/10\n",
      "358/358 [==============================] - 106s 296ms/step - loss: 0.0074 - accuracy: 0.9970 - val_loss: 0.2077 - val_accuracy: 0.9766\n",
      "Epoch 7/10\n",
      "358/358 [==============================] - 94s 262ms/step - loss: 0.0068 - accuracy: 0.9978 - val_loss: 0.1888 - val_accuracy: 0.9759\n",
      "Epoch 8/10\n",
      "358/358 [==============================] - 107s 300ms/step - loss: 0.0050 - accuracy: 0.9983 - val_loss: 0.2144 - val_accuracy: 0.9766\n",
      "Epoch 9/10\n",
      "358/358 [==============================] - 110s 306ms/step - loss: 0.0167 - accuracy: 0.9948 - val_loss: 0.2219 - val_accuracy: 0.9633\n",
      "Epoch 10/10\n",
      "358/358 [==============================] - 101s 283ms/step - loss: 0.0119 - accuracy: 0.9962 - val_loss: 0.2199 - val_accuracy: 0.9776\n"
     ]
    }
   ],
   "source": [
    "# 6. Train the Model\n",
    "history = model.fit(\n",
    "    X_train_seq, y_train_seq,\n",
    "    validation_split = 0.2,  # 20% validation data\n",
    "    epochs = 10,  # Number of epochs\n",
    "    batch_size = 32,  # Batch size\n",
    "    verbose = 1,  # Display training progress\n",
    ")"
   ]
  },
  {
   "cell_type": "code",
   "execution_count": null,
   "id": "d2cd30e4",
   "metadata": {},
   "outputs": [
    {
     "name": "stdout",
     "output_type": "stream",
     "text": [
      " 74/112 [==================>...........] - ETA: 2s - loss: 0.2262 - accuracy: 0.9776"
     ]
    }
   ],
   "source": [
    "# 7. Evaluate the Model\n",
    "loss, accuracy = model.evaluate(X_test_seq, y_test_seq)  # Evaluate on test data\n",
    "print(f\"Test Loss: {loss}\")\n",
    "print(f\"Test Accuracy: {accuracy}\")"
   ]
  },
  {
   "cell_type": "code",
   "execution_count": null,
   "id": "063dd355",
   "metadata": {},
   "outputs": [],
   "source": [
    "# 8. Visualize Training History\n",
    "plt.figure(figsize=(12, 6))\n",
    "plt.plot(history.history['accuracy'], label='Train Accuracy')\n",
    "plt.plot(history.history['val_accuracy'], label='Validation Accuracy')\n",
    "plt.title('Model Accuracy')\n",
    "plt.xlabel('Epochs')\n",
    "plt.ylabel('Accuracy')\n",
    "plt.legend()\n",
    "plt.show()"
   ]
  },
  {
   "cell_type": "code",
   "execution_count": null,
   "id": "1ce4346d",
   "metadata": {},
   "outputs": [],
   "source": [
    "plt.figure(figsize=(12, 6))\n",
    "plt.plot(history.history['loss'], label='Train Loss')\n",
    "plt.plot(history.history['val_loss'], label='Validation Loss')\n",
    "plt.title('Model Loss')\n",
    "plt.xlabel('Epochs')\n",
    "plt.ylabel('Loss')\n",
    "plt.legend()\n",
    "plt.show()"
   ]
  },
  {
   "cell_type": "code",
   "execution_count": null,
   "id": "224dcbf1",
   "metadata": {},
   "outputs": [],
   "source": []
  },
  {
   "cell_type": "code",
   "execution_count": null,
   "id": "4a27671c",
   "metadata": {},
   "outputs": [],
   "source": []
  }
 ],
 "metadata": {
  "kernelspec": {
   "display_name": "Python 3 (ipykernel)",
   "language": "python",
   "name": "python3"
  },
  "language_info": {
   "codemirror_mode": {
    "name": "ipython",
    "version": 3
   },
   "file_extension": ".py",
   "mimetype": "text/x-python",
   "name": "python",
   "nbconvert_exporter": "python",
   "pygments_lexer": "ipython3",
   "version": "3.9.12"
  }
 },
 "nbformat": 4,
 "nbformat_minor": 5
}
